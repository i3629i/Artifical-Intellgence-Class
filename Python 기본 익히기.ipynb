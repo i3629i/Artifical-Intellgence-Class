{
 "cells": [
  {
   "cell_type": "markdown",
   "metadata": {},
   "source": [
    "이 자료는 본격적인 인공지능 실습을 진행하기 전에 알아둬야 할 Python의 핵심적인 사항만을 다루고 있음. 절대 Python의 전부가 아니며 Python 기반으로 인공지능 프로젝트 진행할 것이라면 추가적인 Python 지식과 공부가 필요할 것임. 이 자료는 앞으로 진행될 인공지능 실습 코드를 최소한 이해하기 위해서 갖춰야 할 최소한의 Python 지식만을 다룬다고 이해하면 될 것임. 또한 이론적인 것보다는 실용적인 접근임."
   ]
  },
  {
   "cell_type": "markdown",
   "metadata": {},
   "source": [
    "# 기본 데이터 및 연산"
   ]
  },
  {
   "cell_type": "markdown",
   "metadata": {},
   "source": [
    "## 숫자\n",
    "숫자 연산자: +, -, * //, %, /, **"
   ]
  },
  {
   "cell_type": "code",
   "execution_count": null,
   "metadata": {},
   "outputs": [],
   "source": [
    "17 // 3  # 나눗셈의 몫"
   ]
  },
  {
   "cell_type": "markdown",
   "metadata": {},
   "source": [
    "Python은 문장 해석 결과를 곧바로 확인할 수 있음. 이 문서는 편의상 이런 방식으로 작성되어 있음. 이런 방식의 결과 확인이 어색한 학생은 다음과 같이 print 함수를 이용해서 결과를 출력할 수도 있음."
   ]
  },
  {
   "cell_type": "code",
   "execution_count": null,
   "metadata": {},
   "outputs": [],
   "source": [
    "print(17//3)"
   ]
  },
  {
   "cell_type": "code",
   "execution_count": null,
   "metadata": {},
   "outputs": [],
   "source": [
    "17.1 // 3.0"
   ]
  },
  {
   "cell_type": "code",
   "execution_count": null,
   "metadata": {},
   "outputs": [],
   "source": [
    "17 / 3  # 통상적인 나누기. 결과는 실수."
   ]
  },
  {
   "cell_type": "code",
   "execution_count": null,
   "metadata": {},
   "outputs": [],
   "source": [
    "17.1 / 3.0"
   ]
  },
  {
   "cell_type": "code",
   "execution_count": null,
   "metadata": {},
   "outputs": [],
   "source": [
    "2 ** 3  # 거듭제곱"
   ]
  },
  {
   "cell_type": "markdown",
   "metadata": {},
   "source": [
    "## 문자열\n",
    "작은 따옴표나 큰 따옴표로 감싸서 표현함.\n",
    "'Hello World' 또는 \"AI와 머신러닝\"  \n",
    "여러 줄로 구성된 문자열은 따옴표 3개로 표현함."
   ]
  },
  {
   "cell_type": "code",
   "execution_count": null,
   "metadata": {},
   "outputs": [],
   "source": [
    "'''Hello\n",
    "AI\n",
    "World'''"
   ]
  },
  {
   "cell_type": "code",
   "execution_count": null,
   "metadata": {},
   "outputs": [],
   "source": [
    "'Hello' + 'World'  # 문자열 결합 연산"
   ]
  },
  {
   "cell_type": "code",
   "execution_count": null,
   "metadata": {},
   "outputs": [],
   "source": [
    "'AB' * 3  # 같은 문자열을 반복"
   ]
  },
  {
   "cell_type": "markdown",
   "metadata": {},
   "source": [
    "**인덱싱(indexing)**: 문자열에서 특정 위치의 문자 하나를 추출하는 방법. C언어의 배열 인덱싱과 유사함."
   ]
  },
  {
   "cell_type": "code",
   "execution_count": null,
   "metadata": {},
   "outputs": [],
   "source": [
    "word = 'Python'\n",
    "word[0]"
   ]
  },
  {
   "cell_type": "code",
   "execution_count": null,
   "metadata": {},
   "outputs": [],
   "source": [
    "word[5]"
   ]
  },
  {
   "cell_type": "code",
   "execution_count": null,
   "metadata": {},
   "outputs": [],
   "source": [
    "word[-2]  # 문자열 끝에서 부터 역으로 두번째 문자"
   ]
  },
  {
   "cell_type": "markdown",
   "metadata": {},
   "source": [
    "**슬라이싱(slicing)**: 부분문자열을 추출하는 방법"
   ]
  },
  {
   "cell_type": "code",
   "execution_count": null,
   "metadata": {},
   "outputs": [],
   "source": [
    "word[2:5]  # 인덱스 2부터 5 직전까지 (끝 인덱스의 문자는 포함되지 않음)"
   ]
  },
  {
   "cell_type": "code",
   "execution_count": null,
   "metadata": {},
   "outputs": [],
   "source": [
    "word[:2]  # 시작 인덱스가 생략되면 0부터"
   ]
  },
  {
   "cell_type": "code",
   "execution_count": null,
   "metadata": {},
   "outputs": [],
   "source": [
    "word[4:]  # 끝 인덱스가 생략되면 문자열 뒷부분 모두 추출"
   ]
  },
  {
   "cell_type": "markdown",
   "metadata": {},
   "source": [
    "### 문자열 메쏘드\n",
    "* `startswith(s)` / `endswith(s)`: s로 시작하는/끝나는 문자열인가?\n",
    "* `find(s)` / `rfind(s)`: s가 처음 등장한 인덱스; 없으면 -1. rfind는 뒤에서부터 찾음\n",
    "* `lstrip()` / `rstrip()` / `strip()`: 공백 제거\n",
    "* `split(s)`: 문자열을 s를 기준으로 나누고 그 결과를 리스트로 반환함\n",
    "* `format(…)`: 형식을 갖춘 문자열 생성\n",
    "\n",
    "그외 다양한 메쏘드들이 있으므로 여기 참고: https://docs.python.org/3.7/library/stdtypes.html#string-methods"
   ]
  },
  {
   "cell_type": "code",
   "execution_count": null,
   "metadata": {},
   "outputs": [],
   "source": [
    "word.startswith('Py')"
   ]
  },
  {
   "cell_type": "code",
   "execution_count": null,
   "metadata": {},
   "outputs": [],
   "source": [
    "word.endswith('s')"
   ]
  },
  {
   "cell_type": "code",
   "execution_count": null,
   "metadata": {},
   "outputs": [],
   "source": [
    "'{0}대학교 {1} {2}학년 {3}입니다.'.format('성결', '컴퓨터공학과', 3, '홍길동')"
   ]
  },
  {
   "cell_type": "markdown",
   "metadata": {},
   "source": [
    "# 자료구조들"
   ]
  },
  {
   "cell_type": "markdown",
   "metadata": {},
   "source": [
    "## 리스트\n",
    "데이터들의 나열. 같은 타입일 수도, 다른 타입일 수도 있음."
   ]
  },
  {
   "cell_type": "code",
   "execution_count": null,
   "metadata": {},
   "outputs": [],
   "source": [
    "[1, 3, 5, 7, 9]"
   ]
  },
  {
   "cell_type": "code",
   "execution_count": null,
   "metadata": {},
   "outputs": [],
   "source": [
    "['감자', '고구마', '딸기']"
   ]
  },
  {
   "cell_type": "code",
   "execution_count": null,
   "metadata": {},
   "outputs": [],
   "source": [
    "[1, 3, '감자', 10.95]"
   ]
  },
  {
   "cell_type": "markdown",
   "metadata": {},
   "source": [
    "모든 순서열(문자열, 리스트, 튜플 등) 타입은 인덱싱, 슬라이싱 가능"
   ]
  },
  {
   "cell_type": "code",
   "execution_count": null,
   "metadata": {},
   "outputs": [],
   "source": [
    "sq = [1, 4, 9, 16, 25]\n",
    "fr = ['apple', 'banana', 'carrot']\n",
    "sq[1]"
   ]
  },
  {
   "cell_type": "code",
   "execution_count": null,
   "metadata": {},
   "outputs": [],
   "source": [
    "sq[-3:]"
   ]
  },
  {
   "cell_type": "code",
   "execution_count": null,
   "metadata": {},
   "outputs": [],
   "source": [
    "fr[:2]"
   ]
  },
  {
   "cell_type": "code",
   "execution_count": null,
   "metadata": {},
   "outputs": [],
   "source": [
    "sq + [36, 49]  # 리스트 연결"
   ]
  },
  {
   "cell_type": "code",
   "execution_count": null,
   "metadata": {},
   "outputs": [],
   "source": [
    "sq[2] = 11  # 리스트의 특정 위치 값 변경\n",
    "sq"
   ]
  },
  {
   "cell_type": "markdown",
   "metadata": {},
   "source": [
    "위 방식이 어색하면 아래와 같이. 동일함."
   ]
  },
  {
   "cell_type": "code",
   "execution_count": null,
   "metadata": {
    "scrolled": false
   },
   "outputs": [],
   "source": [
    "sq[2] = 11\n",
    "print(sq)"
   ]
  },
  {
   "cell_type": "markdown",
   "metadata": {},
   "source": [
    "리스트는 중첩이 가능함."
   ]
  },
  {
   "cell_type": "code",
   "execution_count": null,
   "metadata": {},
   "outputs": [],
   "source": [
    "a = ['a', 'b', 'c']\n",
    "n = [1, 2, 3]\n",
    "x = [a, n]  # 리스트의 리스트\n",
    "x"
   ]
  },
  {
   "cell_type": "code",
   "execution_count": null,
   "metadata": {},
   "outputs": [],
   "source": [
    "x[0]"
   ]
  },
  {
   "cell_type": "code",
   "execution_count": null,
   "metadata": {},
   "outputs": [],
   "source": [
    "x[0][1]"
   ]
  },
  {
   "cell_type": "markdown",
   "metadata": {},
   "source": [
    "### 리스트 메쏘드\n",
    "* `append(a)`: 리스트 뒤쪽에 새로운 요소 추가\n",
    "* `extend(l)`: 기존 리스트에 l을 이어 붙임; + 연산자와 동일\n",
    "* `insert(idx, a)`: idx 위치에 a를 삽입\n",
    "* `remove(a)`: 리스트에서 a와 일치하는 첫번째 원소를 제거\n",
    "* `pop()`: 리스트 맨 뒤쪽의 마지막 원소 제거\n",
    "* `pop(idx)`: idx 위치의 원소를 제거\n",
    "* `index(a)`: a와 일치하는 첫번째 원소의 인덱스\n",
    "* `sort()`: (오름차순) 정렬; `sort(reverse=True)`: 내림차순 정렬\n",
    "* `reverse()`: 리스트 원소의 순서를 반대로"
   ]
  },
  {
   "cell_type": "markdown",
   "metadata": {},
   "source": [
    "## 튜플(tuple)\n",
    "리스트와 비슷하지만 튜플은 변경 불가(immutable). 다음 2가지 방법을 모두 허용함."
   ]
  },
  {
   "cell_type": "code",
   "execution_count": null,
   "metadata": {},
   "outputs": [],
   "source": [
    "t = (123, 456, 'hello')"
   ]
  },
  {
   "cell_type": "code",
   "execution_count": null,
   "metadata": {},
   "outputs": [],
   "source": [
    "t = 123, 456, 'hello'  # 이런 방식을 튜플 패킹(packing)이라고 함. 여러 값의 나열을 하나의 튜플로 묶음."
   ]
  },
  {
   "cell_type": "code",
   "execution_count": null,
   "metadata": {},
   "outputs": [],
   "source": [
    "x, y, z = t  # 이건 언패킹(unpacking). 튜플의 값을 각각 분리."
   ]
  },
  {
   "cell_type": "markdown",
   "metadata": {},
   "source": [
    "t, x, y, z에는 각각 어떤 값이 들어가 있을까요?"
   ]
  },
  {
   "cell_type": "code",
   "execution_count": null,
   "metadata": {},
   "outputs": [],
   "source": [
    "t"
   ]
  },
  {
   "cell_type": "code",
   "execution_count": null,
   "metadata": {},
   "outputs": [],
   "source": [
    "x"
   ]
  },
  {
   "cell_type": "code",
   "execution_count": null,
   "metadata": {},
   "outputs": [],
   "source": [
    "y"
   ]
  },
  {
   "cell_type": "code",
   "execution_count": null,
   "metadata": {},
   "outputs": [],
   "source": [
    "z"
   ]
  },
  {
   "cell_type": "markdown",
   "metadata": {},
   "source": [
    "튜플도 중첩 가능함."
   ]
  },
  {
   "cell_type": "code",
   "execution_count": null,
   "metadata": {},
   "outputs": [],
   "source": [
    "u = t, (1, 2, 3, 4, 5)\n",
    "u"
   ]
  },
  {
   "cell_type": "markdown",
   "metadata": {},
   "source": [
    "튜플의 값은 변경 불가능함. 다음과 같은 코드는 에러를 발생함."
   ]
  },
  {
   "cell_type": "code",
   "execution_count": null,
   "metadata": {},
   "outputs": [],
   "source": [
    "t[1] = 100  # 에러"
   ]
  },
  {
   "cell_type": "markdown",
   "metadata": {},
   "source": [
    "## 집합\n",
    "집합! `{}`을 사용하거나 `set()` 함수를 사용해서 집합 생성"
   ]
  },
  {
   "cell_type": "code",
   "execution_count": null,
   "metadata": {},
   "outputs": [],
   "source": [
    "basket = {'apple', 'orange', 'apple', 'pear', 'orange'} # 집합에는 같은 값이 여러 개 존재할 수 없음\n",
    "basket"
   ]
  },
  {
   "cell_type": "code",
   "execution_count": null,
   "metadata": {},
   "outputs": [],
   "source": [
    "'orange' in basket  # 집합의 원소인지 체크"
   ]
  },
  {
   "cell_type": "code",
   "execution_count": null,
   "metadata": {},
   "outputs": [],
   "source": [
    "'crabgrass' in basket"
   ]
  },
  {
   "cell_type": "code",
   "execution_count": null,
   "metadata": {},
   "outputs": [],
   "source": [
    "a = set('abracadabra')\n",
    "b = set('alacazam')\n",
    "a"
   ]
  },
  {
   "cell_type": "code",
   "execution_count": null,
   "metadata": {},
   "outputs": [],
   "source": [
    "b"
   ]
  },
  {
   "cell_type": "code",
   "execution_count": null,
   "metadata": {},
   "outputs": [],
   "source": [
    "a - b  # 차집합"
   ]
  },
  {
   "cell_type": "code",
   "execution_count": null,
   "metadata": {},
   "outputs": [],
   "source": [
    "a | b  # 합집합"
   ]
  },
  {
   "cell_type": "code",
   "execution_count": null,
   "metadata": {},
   "outputs": [],
   "source": [
    "a & b  # 교집합"
   ]
  },
  {
   "cell_type": "code",
   "execution_count": null,
   "metadata": {},
   "outputs": [],
   "source": [
    "a ^ b  # 대칭 차집합(XOR). 교집합에 포함되지 않는 각 집합의 원소들로 구성."
   ]
  },
  {
   "cell_type": "markdown",
   "metadata": {},
   "source": [
    "## 딕셔너리(dictionary)\n",
    "사전 구조. 키:값 쌍들로 구성."
   ]
  },
  {
   "cell_type": "code",
   "execution_count": null,
   "metadata": {},
   "outputs": [],
   "source": [
    "tel = {'jack': 4098, 'sape': 4139}  # 집합처럼 {}를 이용해서 생성하는데, 키(key):값(value) 쌍들이 나열됨.\n",
    "tel"
   ]
  },
  {
   "cell_type": "code",
   "execution_count": null,
   "metadata": {},
   "outputs": [],
   "source": [
    "tel['guido'] = 4127  # 딕셔너리에서는 '키'로 인덱싱함. 이 표현은 'guido':4127 의 키:값 쌍을 딕셔너리에 추가하는 것임.\n",
    "tel"
   ]
  },
  {
   "cell_type": "code",
   "execution_count": null,
   "metadata": {},
   "outputs": [],
   "source": [
    "tel['jack']  # 키에 대응되는 값"
   ]
  },
  {
   "cell_type": "code",
   "execution_count": null,
   "metadata": {},
   "outputs": [],
   "source": [
    "del tel['sape']  # 삭제\n",
    "tel"
   ]
  },
  {
   "cell_type": "code",
   "execution_count": null,
   "metadata": {},
   "outputs": [],
   "source": [
    "tel['irv'] = 4127\n",
    "tel"
   ]
  },
  {
   "cell_type": "code",
   "execution_count": null,
   "metadata": {},
   "outputs": [],
   "source": [
    "list(tel)  # 딕셔너리의 키 리스트 (삽입 순서 대로)"
   ]
  },
  {
   "cell_type": "code",
   "execution_count": null,
   "metadata": {},
   "outputs": [],
   "source": [
    "sorted(tel)  # 딕셔너리의 키 리스트 (정렬된 순서)"
   ]
  },
  {
   "cell_type": "code",
   "execution_count": null,
   "metadata": {},
   "outputs": [],
   "source": [
    "sorted(tel, reverse=True)"
   ]
  },
  {
   "cell_type": "code",
   "execution_count": null,
   "metadata": {},
   "outputs": [],
   "source": [
    "'guido' in tel  # 딕셔너리에 존재하는 키인가?"
   ]
  },
  {
   "cell_type": "code",
   "execution_count": null,
   "metadata": {},
   "outputs": [],
   "source": [
    "dict([('sape', 4139), ('guido', 4127), ('jack', 4098)])  # 키-값 쌍에 대해 dict() 함수로 직접 딕셔너리를 생성할 수도 있음"
   ]
  },
  {
   "cell_type": "markdown",
   "metadata": {},
   "source": [
    "### 딕셔너리 메쏘드\n",
    "* ` keys()`: 딕셔너리의 키 리스트\n",
    "* `values()`: 딕셔너리의 값 리스트\n",
    "* `items()`: 딕셔너리의 (키, 값) 쌍으로 이루어진 리스트"
   ]
  },
  {
   "cell_type": "code",
   "execution_count": null,
   "metadata": {},
   "outputs": [],
   "source": [
    "tel"
   ]
  },
  {
   "cell_type": "code",
   "execution_count": null,
   "metadata": {},
   "outputs": [],
   "source": [
    "tel.keys()"
   ]
  },
  {
   "cell_type": "code",
   "execution_count": null,
   "metadata": {},
   "outputs": [],
   "source": [
    "tel.values()"
   ]
  },
  {
   "cell_type": "code",
   "execution_count": null,
   "metadata": {},
   "outputs": [],
   "source": [
    "tel.items()"
   ]
  },
  {
   "cell_type": "markdown",
   "metadata": {},
   "source": [
    "# 코딩 기초 문법"
   ]
  },
  {
   "cell_type": "markdown",
   "metadata": {},
   "source": [
    "## 코드 블록\n",
    "들여쓰기를 통해 코드 블록 표현\n",
    "* 직전 줄 끝에 :\n",
    "* 공백 4개 입력"
   ]
  },
  {
   "cell_type": "code",
   "execution_count": null,
   "metadata": {},
   "outputs": [],
   "source": [
    "a = 10\n",
    "\n",
    "if a == 3:\n",
    "    print('has value')\n",
    "    print('three')\n",
    "else:\n",
    "    print('not three')"
   ]
  },
  {
   "cell_type": "markdown",
   "metadata": {},
   "source": [
    "## 조건문"
   ]
  },
  {
   "cell_type": "code",
   "execution_count": null,
   "metadata": {},
   "outputs": [],
   "source": [
    "weight = 70\n",
    "\n",
    "if weight > 100:\n",
    "    e = '비만'\n",
    "elif weight > 80:\n",
    "    e = '과체중'\n",
    "elif weight > 50:\n",
    "    e = '정상'\n",
    "else:\n",
    "    e = '저체중'\n",
    "\n",
    "print(e)"
   ]
  },
  {
   "cell_type": "markdown",
   "metadata": {},
   "source": [
    "## 반복문\n",
    "`while`, `for`, `continue`, `break`"
   ]
  },
  {
   "cell_type": "code",
   "execution_count": null,
   "metadata": {},
   "outputs": [],
   "source": [
    "for i in (1, 2, 3):\n",
    "    print(i)"
   ]
  },
  {
   "cell_type": "code",
   "execution_count": null,
   "metadata": {},
   "outputs": [],
   "source": [
    "for s in ['apple', 'banana', 'carrot']:\n",
    "    print(s)"
   ]
  },
  {
   "cell_type": "code",
   "execution_count": null,
   "metadata": {},
   "outputs": [],
   "source": [
    "for s in 'three apple trees':\n",
    "    print(s)"
   ]
  },
  {
   "cell_type": "code",
   "execution_count": null,
   "metadata": {},
   "outputs": [],
   "source": [
    "list(range(10))"
   ]
  },
  {
   "cell_type": "code",
   "execution_count": null,
   "metadata": {},
   "outputs": [],
   "source": [
    "for i in range(5):  # 특정 횟수 동안 반복하는 for문 만드려면 range 활용.  0, 1, 2, 3, 4\n",
    "    print(i)"
   ]
  },
  {
   "cell_type": "code",
   "execution_count": null,
   "metadata": {},
   "outputs": [],
   "source": [
    "for i in range(2, 5):  # 2, 3, 4\n",
    "    print(i)"
   ]
  },
  {
   "cell_type": "code",
   "execution_count": null,
   "metadata": {},
   "outputs": [],
   "source": [
    "for i in range(0, 10, 2):  # 세번째 인자는 몇씩 증가하는지 지정하는 값.  0, 2, 4, 6, 8\n",
    "    print(i)"
   ]
  },
  {
   "cell_type": "markdown",
   "metadata": {},
   "source": [
    "# 내포(Comprehension)\n",
    "위에서 설명한 자료구조들을 훨씬 간결히 생성하는 방법. 수학에서 집합 표현 방법 중 조건제시법과 유사함."
   ]
  },
  {
   "cell_type": "markdown",
   "metadata": {},
   "source": [
    "## 리스트 내포"
   ]
  },
  {
   "cell_type": "code",
   "execution_count": null,
   "metadata": {},
   "outputs": [],
   "source": [
    "squares = [x**2 for x in range(10)]  # 각 x에 대해 x의 제곱으로 원소 구성\n",
    "squares"
   ]
  },
  {
   "cell_type": "code",
   "execution_count": null,
   "metadata": {},
   "outputs": [],
   "source": [
    "[(x, y) for x in [1,2,3] for y in [3,1,4] if x != y]  # (x, y) 튜플의 리스트 생성. 튜플은 x, y로 조합하여 생성. 단, 두 값이 서로 다른 경우만."
   ]
  },
  {
   "cell_type": "markdown",
   "metadata": {},
   "source": [
    "## 집합 내포"
   ]
  },
  {
   "cell_type": "code",
   "execution_count": null,
   "metadata": {},
   "outputs": [],
   "source": [
    "{x for x in 'abracadabra' if x not in 'abc'}"
   ]
  },
  {
   "cell_type": "markdown",
   "metadata": {},
   "source": [
    "## 딕셔너리 내포"
   ]
  },
  {
   "cell_type": "code",
   "execution_count": null,
   "metadata": {},
   "outputs": [],
   "source": [
    "{x: x**2 for x in (2, 4, 6)}"
   ]
  },
  {
   "cell_type": "markdown",
   "metadata": {},
   "source": [
    "# 함수"
   ]
  },
  {
   "cell_type": "markdown",
   "metadata": {},
   "source": [
    "## 함수 정의"
   ]
  },
  {
   "cell_type": "code",
   "execution_count": null,
   "metadata": {},
   "outputs": [],
   "source": [
    "def func(a, b):\n",
    "    if a > b:\n",
    "        r = a*10\n",
    "    else:\n",
    "        r = b*10\n",
    "    return r\n",
    "\n",
    "func(5, 7)"
   ]
  },
  {
   "cell_type": "code",
   "execution_count": null,
   "metadata": {},
   "outputs": [],
   "source": [
    "func(9, 3)"
   ]
  },
  {
   "cell_type": "markdown",
   "metadata": {},
   "source": [
    "기본값 매개변수, 키워드 매개변수, 가변 매개변수 등도 더 공부해 보세요."
   ]
  },
  {
   "cell_type": "markdown",
   "metadata": {},
   "source": [
    "# 모듈과 패키지"
   ]
  },
  {
   "cell_type": "markdown",
   "metadata": {},
   "source": [
    "## 모듈\n",
    "* 함수, 변수, 클래스 등을 모아 놓은 파일\n",
    "* 최상위 수준으로 실행되는 모듈은 `__name__` 변수가 `'__main__'`으로 지정됨\n",
    "* C언어의 main 함수에 해당하는 내용을 다음과 같이 표현함"
   ]
  },
  {
   "cell_type": "code",
   "execution_count": null,
   "metadata": {},
   "outputs": [],
   "source": [
    "if __name__ == '__main__':\n",
    "    print('Main module starts...')"
   ]
  },
  {
   "cell_type": "markdown",
   "metadata": {},
   "source": [
    "## 패키지\n",
    "* 모듈을 모아둔 디렉토리\n",
    "* 모듈을 계층적으로 관리\n",
    "* `a.b`: a 패키지의 b 모듈 "
   ]
  },
  {
   "cell_type": "markdown",
   "metadata": {},
   "source": [
    "## import\n",
    "다른 모듈 내의 코드에 대한 접근을 가능케 함.\n",
    "```\n",
    "import 모듈명\n",
    "```\n",
    "위와 같이 import하면 `모듈명.py`의 코드를 접근하기 위한 것임. 모듈 내의 변수나 함수만 사용하려면 다음과 같이.\n",
    "```\n",
    "from 모듈 import 변수 또는 함수\n",
    "```"
   ]
  },
  {
   "cell_type": "code",
   "execution_count": null,
   "metadata": {},
   "outputs": [],
   "source": [
    "import statistics\n",
    "a = [1, 2, 3, 4, 5]\n",
    "m = statistics.mean(a)\n",
    "s = statistics.stdev(a)\n",
    "print('Mean={0}, Stdev={1}'.format(m, s))"
   ]
  },
  {
   "cell_type": "code",
   "execution_count": null,
   "metadata": {},
   "outputs": [],
   "source": [
    "import statistics as st  # 모듈명에 별칭을 붙여 별칭을 사용할 수도 있음\n",
    "a = [1, 2, 3, 4, 5]\n",
    "m = st.mean(a)\n",
    "s = st.stdev(a)\n",
    "print('Mean={0}, Stdev={1}'.format(m, s))"
   ]
  },
  {
   "cell_type": "markdown",
   "metadata": {},
   "source": [
    "# 파일 입출력"
   ]
  },
  {
   "cell_type": "markdown",
   "metadata": {},
   "source": [
    "자원 누수가 발생하지 않도록 반드시 `close()` 해주어야 함"
   ]
  },
  {
   "cell_type": "code",
   "execution_count": null,
   "metadata": {},
   "outputs": [],
   "source": [
    "file = open('test.txt', 'w')  # 쓰기 모드로 오픈\n",
    "file.write('이 파일은 파이썬 테스트를 위한 파일입니다.')\n",
    "file.close()"
   ]
  },
  {
   "cell_type": "code",
   "execution_count": null,
   "metadata": {},
   "outputs": [],
   "source": [
    "file = open('test.txt', 'r')  # 읽기 모드로 오픈\n",
    "str = file.read()\n",
    "print('파일 내용: {0}'.format(str))\n",
    "file.close()"
   ]
  },
  {
   "cell_type": "markdown",
   "metadata": {},
   "source": [
    "파일이 자동으로 닫히도록 하려면 다음과 같이."
   ]
  },
  {
   "cell_type": "code",
   "execution_count": null,
   "metadata": {},
   "outputs": [],
   "source": [
    "with open('test.txt', 'r') as file:\n",
    "    str = file.read()\n",
    "    print('파일 내용: {0}'.format(str))"
   ]
  },
  {
   "cell_type": "markdown",
   "metadata": {},
   "source": [
    "## 텍스트 파일 입출력 메쏘드\n",
    "* `writelines(lines)`: 문자열을 담은 리스트(lines)를 파일에 씀\n",
    "* `readline()`: 파일로부터 텍스트를 한 줄 읽음\n",
    "* `readlines()`: 파일의 모든 텍스트를 한꺼번에 읽어 줄바꿈 문자를 기준으로 구분하여 각 줄을 원소로 갖는 리스트를 반환함"
   ]
  },
  {
   "cell_type": "markdown",
   "metadata": {},
   "source": [
    "# 클래스"
   ]
  },
  {
   "cell_type": "code",
   "execution_count": null,
   "metadata": {},
   "outputs": [],
   "source": [
    "class Dog:\n",
    "    '''This is a documentation for this class.'''\n",
    "    \n",
    "    kind = '푸들'  # 클래스 변수\n",
    "    \n",
    "    def __init__(self, name):  # 생성자\n",
    "        self.name = name    # 인스턴스 변수들 초기화\n",
    "        self.tricks = []\n",
    "    \n",
    "    def add_trick(self, trick):\n",
    "        self.tricks.append(trick)"
   ]
  },
  {
   "cell_type": "code",
   "execution_count": null,
   "metadata": {
    "scrolled": true
   },
   "outputs": [],
   "source": [
    "a = Dog('apple')  # 생성자의 name으로 'apple'이 전달됨\n",
    "b = Dog('banana')\n",
    "\n",
    "a.add_trick('먹기')\n",
    "b.add_trick('구르기')\n",
    "b.add_trick('점프')\n",
    "\n",
    "for dog in [a, b]:\n",
    "    print('name={0}, kind={1}, tricks={2}'.format(dog.name, dog.kind, dog.tricks))"
   ]
  },
  {
   "cell_type": "markdown",
   "metadata": {},
   "source": [
    "이외에도 상속, 메쏘드 오버라이딩, 추상 클래스 등도 더 공부해 보세요."
   ]
  },
  {
   "cell_type": "markdown",
   "metadata": {},
   "source": [
    "# 내장 함수들"
   ]
  },
  {
   "cell_type": "markdown",
   "metadata": {},
   "source": [
    "* `len(s)`: sequence나 collection s의 길이(원소 개수)\n",
    "* `print(*objects, sep=' ', end='\\n', file=sys.stdout, flush=False)`: 텍스트 스트림 file에 objects를 출력; 각각 sep으로 구분; 마지막은 end로\n",
    "* `input([prompt])`: 한 줄을 읽어 문자열로 변환하여 반환; 줄바꿈 문자는 제거\n",
    "* `str()` / `list()` / `tuple()` / `set()` / `dict()`\n",
    "\n",
    "이외에도 아주 많은 내장 함수들이 있음. 여기 참고하여 함수들을 익히기 바람. https://docs.python.org/3.7/library/functions.html"
   ]
  },
  {
   "cell_type": "markdown",
   "metadata": {},
   "source": [
    "# 기타"
   ]
  },
  {
   "cell_type": "markdown",
   "metadata": {},
   "source": [
    "* 주석: # 문자부터 그 줄 끝까지\n",
    "* `pass`: 아무런 일도 하지 않음. 빈 내용의 코드 블록이 필요할 때 사용\n",
    "* 코드에 한글을 사용하는 경우, 다음 주석을 *.py 파일 첫 줄에 삽입\n",
    "```\n",
    "# -*- coding: utf-8 -*-\n",
    "```"
   ]
  },
  {
   "cell_type": "markdown",
   "metadata": {},
   "source": [
    "다시 한번 강조합니다. 이 자료는 인공지능 실습 코드 이해를 위한 최소한의 Python 지식으로 구성됐습니다. 부족한 부분은 각자 꾸준히 보완하시길!"
   ]
  }
 ],
 "metadata": {
  "kernelspec": {
   "display_name": "Python 3",
   "language": "python",
   "name": "python3"
  },
  "language_info": {
   "codemirror_mode": {
    "name": "ipython",
    "version": 3
   },
   "file_extension": ".py",
   "mimetype": "text/x-python",
   "name": "python",
   "nbconvert_exporter": "python",
   "pygments_lexer": "ipython3",
   "version": "3.7.7"
  }
 },
 "nbformat": 4,
 "nbformat_minor": 4
}
